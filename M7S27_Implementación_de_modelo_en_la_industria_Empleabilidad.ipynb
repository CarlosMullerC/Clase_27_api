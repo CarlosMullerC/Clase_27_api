{
 "cells": [
  {
   "cell_type": "code",
   "execution_count": null,
   "metadata": {
    "id": "-Iy1hpeQFjmY"
   },
   "outputs": [
    {
     "ename": "",
     "evalue": "",
     "output_type": "error",
     "traceback": [
      "\u001b[1;31mRunning cells with '.venv (Python 3.11.4)' requires the ipykernel package.\n",
      "\u001b[1;31mRun the following command to install 'ipykernel' into the Python environment. \n",
      "\u001b[1;31mCommand: 'c:/Users/Carlos/Documents/GitHub/udd_proyecto_final/.venv/Scripts/python.exe -m pip install ipykernel -U --force-reinstall'"
     ]
    }
   ],
   "source": [
    "# Importamos bibliotecas\n",
    "import pandas as pd\n",
    "import numpy as np\n",
    "import matplotlib.pyplot as plt\n",
    "from statsmodels.stats.power import NormalIndPower\n",
    "from scipy.stats import norm"
   ]
  },
  {
   "cell_type": "code",
   "execution_count": null,
   "metadata": {
    "colab": {
     "base_uri": "https://localhost:8080/",
     "height": 135
    },
    "executionInfo": {
     "elapsed": 5,
     "status": "ok",
     "timestamp": 1722010804608,
     "user": {
      "displayName": "carlos muller",
      "userId": "16153721127114550338"
     },
     "user_tz": 240
    },
    "id": "OGTAX_cLtZy6",
    "outputId": "4b220a3e-2e37-4892-f6c3-14fa10ae3358",
    "scrolled": true
   },
   "outputs": [
    {
     "ename": "",
     "evalue": "",
     "output_type": "error",
     "traceback": [
      "\u001b[1;31mRunning cells with '.venv (Python 3.11.4)' requires the ipykernel package.\n",
      "\u001b[1;31mRun the following command to install 'ipykernel' into the Python environment. \n",
      "\u001b[1;31mCommand: 'c:/Users/Carlos/Documents/GitHub/udd_proyecto_final/.venv/Scripts/python.exe -m pip install ipykernel -U --force-reinstall'"
     ]
    }
   ],
   "source": [
    "path = r\"C:\\Users\\Carlos\\Downloads\\tested.csv\"\n"
   ]
  },
  {
   "cell_type": "code",
   "execution_count": null,
   "metadata": {
    "colab": {
     "base_uri": "https://localhost:8080/",
     "height": 135
    },
    "executionInfo": {
     "elapsed": 5,
     "status": "ok",
     "timestamp": 1722010804608,
     "user": {
      "displayName": "carlos muller",
      "userId": "16153721127114550338"
     },
     "user_tz": 240
    },
    "id": "OGTAX_cLtZy6",
    "outputId": "4b220a3e-2e37-4892-f6c3-14fa10ae3358",
    "scrolled": true
   },
   "outputs": [
    {
     "ename": "",
     "evalue": "",
     "output_type": "error",
     "traceback": [
      "\u001b[1;31mRunning cells with '.venv (Python 3.11.4)' requires the ipykernel package.\n",
      "\u001b[1;31mRun the following command to install 'ipykernel' into the Python environment. \n",
      "\u001b[1;31mCommand: 'c:/Users/Carlos/Documents/GitHub/udd_proyecto_final/.venv/Scripts/python.exe -m pip install ipykernel -U --force-reinstall'"
     ]
    }
   ],
   "source": [
    "# Cargamos los datos:\n",
    "df = pd.read_csv(path)\n",
    "df.head(1)"
   ]
  },
  {
   "cell_type": "code",
   "execution_count": null,
   "metadata": {
    "colab": {
     "base_uri": "https://localhost:8080/",
     "height": 135
    },
    "executionInfo": {
     "elapsed": 5,
     "status": "ok",
     "timestamp": 1722010804608,
     "user": {
      "displayName": "carlos muller",
      "userId": "16153721127114550338"
     },
     "user_tz": 240
    },
    "id": "OGTAX_cLtZy6",
    "outputId": "4b220a3e-2e37-4892-f6c3-14fa10ae3358",
    "scrolled": true
   },
   "outputs": [
    {
     "ename": "",
     "evalue": "",
     "output_type": "error",
     "traceback": [
      "\u001b[1;31mRunning cells with '.venv (Python 3.11.4)' requires the ipykernel package.\n",
      "\u001b[1;31mRun the following command to install 'ipykernel' into the Python environment. \n",
      "\u001b[1;31mCommand: 'c:/Users/Carlos/Documents/GitHub/udd_proyecto_final/.venv/Scripts/python.exe -m pip install ipykernel -U --force-reinstall'"
     ]
    }
   ],
   "source": [
    "pip install --upgrade numpy scikit-learn"
   ]
  },
  {
   "cell_type": "code",
   "execution_count": null,
   "metadata": {
    "colab": {
     "base_uri": "https://localhost:8080/",
     "height": 135
    },
    "executionInfo": {
     "elapsed": 5,
     "status": "ok",
     "timestamp": 1722010804608,
     "user": {
      "displayName": "carlos muller",
      "userId": "16153721127114550338"
     },
     "user_tz": 240
    },
    "id": "OGTAX_cLtZy6",
    "outputId": "4b220a3e-2e37-4892-f6c3-14fa10ae3358",
    "scrolled": true
   },
   "outputs": [
    {
     "ename": "",
     "evalue": "",
     "output_type": "error",
     "traceback": [
      "\u001b[1;31mRunning cells with '.venv (Python 3.11.4)' requires the ipykernel package.\n",
      "\u001b[1;31mRun the following command to install 'ipykernel' into the Python environment. \n",
      "\u001b[1;31mCommand: 'c:/Users/Carlos/Documents/GitHub/udd_proyecto_final/.venv/Scripts/python.exe -m pip install ipykernel -U --force-reinstall'"
     ]
    }
   ],
   "source": [
    "!pip install --upgrade numpy scikit-learn"
   ]
  },
  {
   "cell_type": "code",
   "execution_count": null,
   "metadata": {
    "colab": {
     "base_uri": "https://localhost:8080/",
     "height": 135
    },
    "executionInfo": {
     "elapsed": 5,
     "status": "ok",
     "timestamp": 1722010804608,
     "user": {
      "displayName": "carlos muller",
      "userId": "16153721127114550338"
     },
     "user_tz": 240
    },
    "id": "OGTAX_cLtZy6",
    "outputId": "4b220a3e-2e37-4892-f6c3-14fa10ae3358",
    "scrolled": true
   },
   "outputs": [
    {
     "ename": "",
     "evalue": "",
     "output_type": "error",
     "traceback": [
      "\u001b[1;31mRunning cells with '.venv (Python 3.11.4)' requires the ipykernel package.\n",
      "\u001b[1;31mRun the following command to install 'ipykernel' into the Python environment. \n",
      "\u001b[1;31mCommand: 'c:/Users/Carlos/Documents/GitHub/udd_proyecto_final/.venv/Scripts/python.exe -m pip install ipykernel -U --force-reinstall'"
     ]
    }
   ],
   "source": [
    "!pip list"
   ]
  },
  {
   "cell_type": "code",
   "execution_count": null,
   "metadata": {
    "colab": {
     "base_uri": "https://localhost:8080/",
     "height": 135
    },
    "executionInfo": {
     "elapsed": 5,
     "status": "ok",
     "timestamp": 1722010804608,
     "user": {
      "displayName": "carlos muller",
      "userId": "16153721127114550338"
     },
     "user_tz": 240
    },
    "id": "OGTAX_cLtZy6",
    "outputId": "4b220a3e-2e37-4892-f6c3-14fa10ae3358",
    "scrolled": true
   },
   "outputs": [
    {
     "ename": "",
     "evalue": "",
     "output_type": "error",
     "traceback": [
      "\u001b[1;31mRunning cells with '.venv (Python 3.11.4)' requires the ipykernel package.\n",
      "\u001b[1;31mRun the following command to install 'ipykernel' into the Python environment. \n",
      "\u001b[1;31mCommand: 'c:/Users/Carlos/Documents/GitHub/udd_proyecto_final/.venv/Scripts/python.exe -m pip install ipykernel -U --force-reinstall'"
     ]
    }
   ],
   "source": [
    "from sklearn.ensemble import RandomForestClassifier"
   ]
  },
  {
   "cell_type": "code",
   "execution_count": null,
   "metadata": {
    "executionInfo": {
     "elapsed": 482,
     "status": "ok",
     "timestamp": 1722011092796,
     "user": {
      "displayName": "carlos muller",
      "userId": "16153721127114550338"
     },
     "user_tz": 240
    },
    "id": "3BUiqsMp8RVz"
   },
   "outputs": [
    {
     "ename": "",
     "evalue": "",
     "output_type": "error",
     "traceback": [
      "\u001b[1;31mRunning cells with '.venv (Python 3.11.4)' requires the ipykernel package.\n",
      "\u001b[1;31mRun the following command to install 'ipykernel' into the Python environment. \n",
      "\u001b[1;31mCommand: 'c:/Users/Carlos/Documents/GitHub/udd_proyecto_final/.venv/Scripts/python.exe -m pip install ipykernel -U --force-reinstall'"
     ]
    }
   ],
   "source": [
    "# Eliminamos columnas no deseadas:\n",
    "df.drop([\"PassengerId\",\"Name\",\"Cabin\",\"Ticket\"],axis=1,inplace=True)"
   ]
  },
  {
   "cell_type": "code",
   "execution_count": null,
   "metadata": {
    "colab": {
     "base_uri": "https://localhost:8080/"
    },
    "executionInfo": {
     "elapsed": 9,
     "status": "ok",
     "timestamp": 1722011094818,
     "user": {
      "displayName": "carlos muller",
      "userId": "16153721127114550338"
     },
     "user_tz": 240
    },
    "id": "zCFT2D5U8SQG",
    "outputId": "fa8e66c4-4012-47bf-c316-19547bd1e564"
   },
   "outputs": [
    {
     "ename": "",
     "evalue": "",
     "output_type": "error",
     "traceback": [
      "\u001b[1;31mRunning cells with '.venv (Python 3.11.4)' requires the ipykernel package.\n",
      "\u001b[1;31mRun the following command to install 'ipykernel' into the Python environment. \n",
      "\u001b[1;31mCommand: 'c:/Users/Carlos/Documents/GitHub/udd_proyecto_final/.venv/Scripts/python.exe -m pip install ipykernel -U --force-reinstall'"
     ]
    }
   ],
   "source": [
    "# Recuento de valores faltantes en cada columna:\n",
    "print(df.isnull().sum())"
   ]
  },
  {
   "cell_type": "code",
   "execution_count": null,
   "metadata": {
    "colab": {
     "base_uri": "https://localhost:8080/"
    },
    "executionInfo": {
     "elapsed": 521,
     "status": "ok",
     "timestamp": 1722011145258,
     "user": {
      "displayName": "carlos muller",
      "userId": "16153721127114550338"
     },
     "user_tz": 240
    },
    "id": "gN_9zQBB8TKd",
    "outputId": "e345347c-85bb-432a-e3fe-6be78356215a"
   },
   "outputs": [
    {
     "ename": "",
     "evalue": "",
     "output_type": "error",
     "traceback": [
      "\u001b[1;31mRunning cells with '.venv (Python 3.11.4)' requires the ipykernel package.\n",
      "\u001b[1;31mRun the following command to install 'ipykernel' into the Python environment. \n",
      "\u001b[1;31mCommand: 'c:/Users/Carlos/Documents/GitHub/udd_proyecto_final/.venv/Scripts/python.exe -m pip install ipykernel -U --force-reinstall'"
     ]
    }
   ],
   "source": [
    "# Eliminación de filas con valores faltantes:\n",
    "df.dropna(subset=['Fare','Age'],inplace=True)\n",
    "print(df.isnull().sum())"
   ]
  },
  {
   "cell_type": "code",
   "execution_count": null,
   "metadata": {
    "executionInfo": {
     "elapsed": 372,
     "status": "ok",
     "timestamp": 1722011172677,
     "user": {
      "displayName": "carlos muller",
      "userId": "16153721127114550338"
     },
     "user_tz": 240
    },
    "id": "qvZecGoJ8UDN"
   },
   "outputs": [
    {
     "ename": "",
     "evalue": "",
     "output_type": "error",
     "traceback": [
      "\u001b[1;31mRunning cells with '.venv (Python 3.11.4)' requires the ipykernel package.\n",
      "\u001b[1;31mRun the following command to install 'ipykernel' into the Python environment. \n",
      "\u001b[1;31mCommand: 'c:/Users/Carlos/Documents/GitHub/udd_proyecto_final/.venv/Scripts/python.exe -m pip install ipykernel -U --force-reinstall'"
     ]
    }
   ],
   "source": [
    "# Codificación One hot encoding para variables categóricas\n",
    "# Creación Dymmies:\n",
    "dummies = pd.get_dummies(df.Sex)\n",
    "dummies2 = pd.get_dummies(df.Embarked)"
   ]
  },
  {
   "cell_type": "code",
   "execution_count": null,
   "metadata": {
    "colab": {
     "base_uri": "https://localhost:8080/"
    },
    "executionInfo": {
     "elapsed": 4,
     "status": "ok",
     "timestamp": 1722011173130,
     "user": {
      "displayName": "carlos muller",
      "userId": "16153721127114550338"
     },
     "user_tz": 240
    },
    "id": "BPtm3z_D8U_b",
    "outputId": "05e4a918-500e-48bc-b207-e1a3e57d8af2"
   },
   "outputs": [
    {
     "ename": "",
     "evalue": "",
     "output_type": "error",
     "traceback": [
      "\u001b[1;31mRunning cells with '.venv (Python 3.11.4)' requires the ipykernel package.\n",
      "\u001b[1;31mRun the following command to install 'ipykernel' into the Python environment. \n",
      "\u001b[1;31mCommand: 'c:/Users/Carlos/Documents/GitHub/udd_proyecto_final/.venv/Scripts/python.exe -m pip install ipykernel -U --force-reinstall'"
     ]
    }
   ],
   "source": [
    "# Agregamos el dataset de los dummies con el dataset original:\n",
    "new_df = pd.concat([df,dummies,dummies2],axis='columns')\n",
    "print(type(new_df))"
   ]
  },
  {
   "cell_type": "code",
   "execution_count": null,
   "metadata": {
    "colab": {
     "base_uri": "https://localhost:8080/"
    },
    "executionInfo": {
     "elapsed": 341,
     "status": "ok",
     "timestamp": 1722011177651,
     "user": {
      "displayName": "carlos muller",
      "userId": "16153721127114550338"
     },
     "user_tz": 240
    },
    "id": "InItx8LB8W73",
    "outputId": "bb4f9e1c-5331-48c8-ac00-b556b6ab65e3"
   },
   "outputs": [
    {
     "ename": "",
     "evalue": "",
     "output_type": "error",
     "traceback": [
      "\u001b[1;31mRunning cells with '.venv (Python 3.11.4)' requires the ipykernel package.\n",
      "\u001b[1;31mRun the following command to install 'ipykernel' into the Python environment. \n",
      "\u001b[1;31mCommand: 'c:/Users/Carlos/Documents/GitHub/udd_proyecto_final/.venv/Scripts/python.exe -m pip install ipykernel -U --force-reinstall'"
     ]
    }
   ],
   "source": [
    "# Eliminamos columnas que no usaremos:\n",
    "new_df.drop(['Sex','Embarked'],axis='columns',inplace=True)\n",
    "print(new_df.head(10))\n",
    "\n",
    "new_df.info()"
   ]
  },
  {
   "cell_type": "code",
   "execution_count": null,
   "metadata": {
    "colab": {
     "base_uri": "https://localhost:8080/",
     "height": 75
    },
    "executionInfo": {
     "elapsed": 432,
     "status": "ok",
     "timestamp": 1722011570384,
     "user": {
      "displayName": "carlos muller",
      "userId": "16153721127114550338"
     },
     "user_tz": 240
    },
    "id": "E2VOylZl2GLw",
    "outputId": "52c0b3dc-b954-442b-9f07-1e40ebf1d87d"
   },
   "outputs": [
    {
     "ename": "",
     "evalue": "",
     "output_type": "error",
     "traceback": [
      "\u001b[1;31mRunning cells with '.venv (Python 3.11.4)' requires the ipykernel package.\n",
      "\u001b[1;31mRun the following command to install 'ipykernel' into the Python environment. \n",
      "\u001b[1;31mCommand: 'c:/Users/Carlos/Documents/GitHub/udd_proyecto_final/.venv/Scripts/python.exe -m pip install ipykernel -U --force-reinstall'"
     ]
    }
   ],
   "source": [
    "# Dividimos el dataset en características y clase target:\n",
    "x = new_df[new_df.columns.difference(['Survived'])]\n",
    "y = new_df['Survived']\n",
    "\n",
    "classifier = RandomForestClassifier()\n",
    "classifier.fit(x, y)"
   ]
  },
  {
   "cell_type": "code",
   "execution_count": null,
   "metadata": {
    "colab": {
     "base_uri": "https://localhost:8080/",
     "height": 206
    },
    "executionInfo": {
     "elapsed": 370,
     "status": "ok",
     "timestamp": 1722011696047,
     "user": {
      "displayName": "carlos muller",
      "userId": "16153721127114550338"
     },
     "user_tz": 240
    },
    "id": "HAcXfqWrY_P-",
    "outputId": "2ddd92d9-74c9-4bc1-c322-a1fa29ccee94"
   },
   "outputs": [
    {
     "ename": "",
     "evalue": "",
     "output_type": "error",
     "traceback": [
      "\u001b[1;31mRunning cells with '.venv (Python 3.11.4)' requires the ipykernel package.\n",
      "\u001b[1;31mRun the following command to install 'ipykernel' into the Python environment. \n",
      "\u001b[1;31mCommand: 'c:/Users/Carlos/Documents/GitHub/udd_proyecto_final/.venv/Scripts/python.exe -m pip install ipykernel -U --force-reinstall'"
     ]
    }
   ],
   "source": [
    "\"\"\"\n",
    "Hacemos un head a X porque, a la hora de implementar nuestro\n",
    "modelo en la API REST, es necesario enviar los datos en el mismo orden en el que\n",
    "se entrenaron:\n",
    "\"\"\"\n",
    "x.head()"
   ]
  },
  {
   "cell_type": "markdown",
   "metadata": {
    "id": "GVIuhRZZwkQj"
   },
   "source": [
    "A continuación, necesitamos conservar el modelo. El entorno donde implementamos la aplicación a menudo es diferente de donde los entrenamos. La capacitación, por lo general, requiere un conjunto diferente de recursos. Por lo tanto, esta separación ayuda a las organizaciones a optimizar su presupuesto y esfuerzos.\n",
    "\n",
    "``` python\n",
    "import joblib\n",
    "\n",
    "joblib.dump(classifier, 'classifier.pkl')\n",
    "\n",
    "```\n",
    "\n",
    "\n"
   ]
  },
  {
   "cell_type": "code",
   "execution_count": null,
   "metadata": {
    "colab": {
     "base_uri": "https://localhost:8080/"
    },
    "executionInfo": {
     "elapsed": 2684,
     "status": "ok",
     "timestamp": 1722018132607,
     "user": {
      "displayName": "carlos muller",
      "userId": "16153721127114550338"
     },
     "user_tz": 240
    },
    "id": "-ZpfAGrDRy15",
    "outputId": "7b84c140-7be3-463b-9bf7-e88f9a2bad95",
    "scrolled": true
   },
   "outputs": [
    {
     "ename": "",
     "evalue": "",
     "output_type": "error",
     "traceback": [
      "\u001b[1;31mRunning cells with '.venv (Python 3.11.4)' requires the ipykernel package.\n",
      "\u001b[1;31mRun the following command to install 'ipykernel' into the Python environment. \n",
      "\u001b[1;31mCommand: 'c:/Users/Carlos/Documents/GitHub/udd_proyecto_final/.venv/Scripts/python.exe -m pip install ipykernel -U --force-reinstall'"
     ]
    }
   ],
   "source": [
    "!pip list"
   ]
  },
  {
   "cell_type": "code",
   "execution_count": null,
   "metadata": {
    "colab": {
     "base_uri": "https://localhost:8080/"
    },
    "executionInfo": {
     "elapsed": 338,
     "status": "ok",
     "timestamp": 1722017506594,
     "user": {
      "displayName": "carlos muller",
      "userId": "16153721127114550338"
     },
     "user_tz": 240
    },
    "id": "mU_vZWKLCeDT",
    "outputId": "7e55be94-da94-457f-9109-152a71afd987"
   },
   "outputs": [
    {
     "ename": "",
     "evalue": "",
     "output_type": "error",
     "traceback": [
      "\u001b[1;31mRunning cells with '.venv (Python 3.11.4)' requires the ipykernel package.\n",
      "\u001b[1;31mRun the following command to install 'ipykernel' into the Python environment. \n",
      "\u001b[1;31mCommand: 'c:/Users/Carlos/Documents/GitHub/udd_proyecto_final/.venv/Scripts/python.exe -m pip install ipykernel -U --force-reinstall'"
     ]
    }
   ],
   "source": [
    "import joblib\n",
    "\n",
    "joblib.dump(classifier, 'classifier.pkl')"
   ]
  }
 ],
 "metadata": {
  "colab": {
   "provenance": []
  },
  "kernelspec": {
   "display_name": "Python 3 (ipykernel)",
   "language": "python",
   "name": "python3"
  },
  "language_info": {
   "codemirror_mode": {
    "name": "ipython",
    "version": 3
   },
   "file_extension": ".py",
   "mimetype": "text/x-python",
   "name": "python",
   "nbconvert_exporter": "python",
   "pygments_lexer": "ipython3",
   "version": "3.11.4"
  }
 },
 "nbformat": 4,
 "nbformat_minor": 4
}
